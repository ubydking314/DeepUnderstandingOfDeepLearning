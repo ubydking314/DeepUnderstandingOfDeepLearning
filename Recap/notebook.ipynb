{
 "cells": [
  {
   "cell_type": "code",
   "execution_count": 3,
   "metadata": {},
   "outputs": [
    {
     "name": "stdout",
     "output_type": "stream",
     "text": [
      "130\n",
      "130\n"
     ]
    }
   ],
   "source": [
    "import numpy as np\n",
    "v1 = np.array([1,2,3,4,5])\n",
    "v2 = np.array([6,7,8,9,10])\n",
    "\n",
    "res1 = np.dot(v1,v2)\n",
    "res2 = np.dot(v2,v1)\n",
    "\n",
    "print(res1)\n",
    "print(res2)\n"
   ]
  },
  {
   "cell_type": "code",
   "execution_count": 15,
   "metadata": {},
   "outputs": [
    {
     "name": "stdout",
     "output_type": "stream",
     "text": [
      "[[5 5 7 9 5 7]\n",
      " [3 6 1 4 8 3]\n",
      " [1 1 3 6 9 4]\n",
      " [5 3 7 1 8 8]]\n",
      " \n",
      "[[1 5 4 1 8 2]\n",
      " [6 7 8 3 3 3]\n",
      " [4 5 5 8 2 4]\n",
      " [1 5 3 9 9 7]]\n"
     ]
    }
   ],
   "source": [
    "mat1 = np.random.randint(1,10,(4,6))\n",
    "mat2 = np.random.randint(1,10,(4,6))\n",
    "print(mat1)\n",
    "print(\" \")\n",
    "print(mat2)"
   ]
  },
  {
   "cell_type": "code",
   "execution_count": 19,
   "metadata": {},
   "outputs": [
    {
     "data": {
      "text/plain": [
       "array([ 32.,  87.,  72.,  78., 154.,  95.])"
      ]
     },
     "execution_count": 19,
     "metadata": {},
     "output_type": "execute_result"
    }
   ],
   "source": [
    "arr = np.zeros(mat1.shape[1])\n",
    "for i in range(mat1.shape[1]):\n",
    "    arr[i] = np.dot(mat1[:,i],mat2[:,i])\n",
    "\n",
    "arr\n",
    "    "
   ]
  },
  {
   "cell_type": "code",
   "execution_count": 23,
   "metadata": {},
   "outputs": [
    {
     "name": "stdout",
     "output_type": "stream",
     "text": [
      "[4 9]\n",
      "[9 7]\n"
     ]
    },
    {
     "data": {
      "text/plain": [
       "True"
      ]
     },
     "execution_count": 23,
     "metadata": {},
     "output_type": "execute_result"
    }
   ],
   "source": [
    "vec1 = np.random.randint(1,10,(2))\n",
    "vec2 = np.random.randint(1,10,(2))\n",
    "\n",
    "print(vec1)\n",
    "print(vec2)\n",
    "\n",
    "res1 = np.dot(vec1,vec2)\n",
    "res2 = np.dot(vec2,vec1)\n",
    "\n",
    "con = bool(res1 == res2)\n",
    "con\n",
    "\n"
   ]
  },
  {
   "cell_type": "code",
   "execution_count": 25,
   "metadata": {},
   "outputs": [
    {
     "name": "stdout",
     "output_type": "stream",
     "text": [
      "13\n"
     ]
    },
    {
     "data": {
      "text/plain": [
       "3.605551275463989"
      ]
     },
     "execution_count": 25,
     "metadata": {},
     "output_type": "execute_result"
    }
   ],
   "source": [
    "vec = np.array([2,3])\n",
    "dot = np.dot(vec,vec)\n",
    "length = np.sqrt(dot)\n",
    "print(dot)\n",
    "length"
   ]
  },
  {
   "cell_type": "code",
   "execution_count": 41,
   "metadata": {},
   "outputs": [
    {
     "name": "stdout",
     "output_type": "stream",
     "text": [
      "1.5369634774203733\n",
      "6.147853909681493\n"
     ]
    },
    {
     "data": {
      "text/plain": [
       "True"
      ]
     },
     "execution_count": 41,
     "metadata": {},
     "output_type": "execute_result"
    }
   ],
   "source": [
    "vec1 = np.random.randn(3)\n",
    "vec2 = np.random.randn(3)\n",
    "\n",
    "scalar = -2\n",
    "res1 = np.dot(vec1,vec2)\n",
    "res2 = np.dot(vec1*scalar,vec2*scalar)\n",
    "print(res1)\n",
    "print(res2)\n",
    "bool(np.sign(res1) == np.sign(res2))\n",
    "\n",
    "#the sign of the dot product is invariant to scalar multiplication\n",
    "\n",
    "\n",
    "\n"
   ]
  },
  {
   "cell_type": "code",
   "execution_count": 44,
   "metadata": {},
   "outputs": [
    {
     "name": "stdout",
     "output_type": "stream",
     "text": [
      "[[5 4 6]\n",
      " [4 7 2]\n",
      " [1 2 1]]\n",
      " \n",
      "[[6 9 8]\n",
      " [8 1 8]\n",
      " [3 8 8]]\n",
      " \n",
      "[[22 26 28]\n",
      " [24 16 20]\n",
      " [ 8 20 18]]\n",
      " \n",
      "[[22 26 28]\n",
      " [24 16 20]\n",
      " [ 8 20 18]]\n"
     ]
    }
   ],
   "source": [
    "mat1 = np.random.randint(1,10,(3,3))\n",
    "mat2 = np.random.randint(1,10,(3,3))\n",
    "\n",
    "print(mat1)\n",
    "print(\" \")\n",
    "print(mat2)\n",
    "\n",
    "scalar = 2\n",
    "res1 = mat1*scalar + mat2*scalar\n",
    "res2 = scalar * (mat1 + mat2)\n",
    "print(\" \")\n",
    "\n",
    "print(res1)\n",
    "print(\" \")\n",
    "print(res2)\n",
    "\n",
    "\n",
    "\n"
   ]
  },
  {
   "cell_type": "code",
   "execution_count": 51,
   "metadata": {},
   "outputs": [
    {
     "data": {
      "text/plain": [
       "True"
      ]
     },
     "execution_count": 51,
     "metadata": {},
     "output_type": "execute_result"
    }
   ],
   "source": [
    "M1 = np.round(6*np.random.randn(4,4))\n",
    "M2 = np.round(6*np.random.randn(4,4))\n",
    "\n",
    "tr1 = np.trace(M1 + M2)\n",
    "tr2 = np.trace(M1) + np.trace(M2)\n",
    "bool(tr1 == tr2)\n",
    "\n"
   ]
  },
  {
   "cell_type": "code",
   "execution_count": 32,
   "metadata": {},
   "outputs": [
    {
     "name": "stdout",
     "output_type": "stream",
     "text": [
      "[[5 7]\n",
      " [3 3]]\n",
      " \n",
      "[[7 3]\n",
      " [9 6]]\n"
     ]
    }
   ],
   "source": [
    "import numpy as np\n",
    "mat1 = np.random.randint(1,10,(2,2))\n",
    "mat2 = np.random.randint(1,10,(2,2))\n",
    "\n",
    "print(mat1)\n",
    "print(\" \")\n",
    "print(mat2)\n",
    "\n"
   ]
  },
  {
   "cell_type": "code",
   "execution_count": 33,
   "metadata": {},
   "outputs": [
    {
     "data": {
      "text/plain": [
       "array([[98, 57],\n",
       "       [48, 27]])"
      ]
     },
     "execution_count": 33,
     "metadata": {},
     "output_type": "execute_result"
    }
   ],
   "source": [
    "np.matmul(mat1,mat2)\n"
   ]
  },
  {
   "cell_type": "code",
   "execution_count": 34,
   "metadata": {},
   "outputs": [
    {
     "name": "stdout",
     "output_type": "stream",
     "text": [
      "Result of custom matrix multiplication:\n",
      "[[98. 57.]\n",
      " [48. 27.]]\n",
      "\n",
      "Verification with numpy's matmul:\n",
      "[[98 57]\n",
      " [48 27]]\n",
      "\n",
      "Results are equal: True\n"
     ]
    }
   ],
   "source": [
    "\n",
    "def matrix_multiply(matrix1, matrix2):\n",
    "    if matrix1.shape[1] != matrix2.shape[0]:\n",
    "        raise ValueError(\"Matrices dimensions are not appropriate for multiplication\")\n",
    "    \n",
    "    result = np.zeros((matrix1.shape[0], matrix2.shape[1]))\n",
    "    \n",
    "    for i in range(matrix1.shape[1]):\n",
    "        column = matrix1[:, i:i+1]\n",
    "        for j in range(matrix2.shape[1]):\n",
    "            result[:, j:j+1] += column * matrix2[i, j]\n",
    "    \n",
    "    return result\n",
    "\n",
    "# Example usage\n",
    "result = matrix_multiply(mat1, mat2)\n",
    "print(\"Result of custom matrix multiplication:\")\n",
    "print(result)\n",
    "\n",
    "# Verify with numpy's matmul\n",
    "print(\"\\nVerification with numpy's matmul:\")\n",
    "print(np.matmul(mat1, mat2))\n",
    "\n",
    "# Check if results are equal\n",
    "print(\"\\nResults are equal:\", np.allclose(result, np.matmul(mat1, mat2)))\n",
    "\n",
    "\n"
   ]
  },
  {
   "cell_type": "code",
   "execution_count": 3,
   "metadata": {},
   "outputs": [
    {
     "name": "stdout",
     "output_type": "stream",
     "text": [
      "(4,)\n",
      " \n",
      "(1, 4)\n"
     ]
    }
   ],
   "source": [
    "import numpy as np\n",
    "\n",
    "rowv = np.array([1,2,3,4])\n",
    "colv = np.array([[1,2,3,4]])\n",
    "\n",
    "print(rowv.shape)\n",
    "print(\" \")\n",
    "print(colv.shape)\n",
    "\n",
    "\n",
    "\n",
    "\n"
   ]
  },
  {
   "cell_type": "code",
   "execution_count": 9,
   "metadata": {},
   "outputs": [
    {
     "data": {
      "text/plain": [
       "array([0, 2, 1], dtype=int64)"
      ]
     },
     "execution_count": 9,
     "metadata": {},
     "output_type": "execute_result"
    }
   ],
   "source": [
    "m = np.array([[2,7,6],[5,4,-1],[9,3,8]])\n",
    "np.argmin(m,axis=0)"
   ]
  },
  {
   "cell_type": "code",
   "execution_count": 18,
   "metadata": {},
   "outputs": [],
   "source": [
    "import torch\n",
    "m = torch.tensor([[1,2,3],[4,5,6]])\n",
    "m1 = np.array([[1,2,3],[4,5,6]])\n",
    "\n"
   ]
  },
  {
   "cell_type": "code",
   "execution_count": 22,
   "metadata": {},
   "outputs": [
    {
     "data": {
      "text/plain": [
       "array([[1, 2, 3, 4, 5]])"
      ]
     },
     "execution_count": 22,
     "metadata": {},
     "output_type": "execute_result"
    }
   ],
   "source": [
    "a = np.array([[1,2,3,4,5]])\n",
    "a.T.T.T.T"
   ]
  },
  {
   "cell_type": "code",
   "execution_count": 23,
   "metadata": {},
   "outputs": [
    {
     "data": {
      "text/plain": [
       "array([[1, 2, 3, 4],\n",
       "       [5, 6, 7, 8]])"
      ]
     },
     "execution_count": 23,
     "metadata": {},
     "output_type": "execute_result"
    }
   ],
   "source": [
    "M = np.array([[1,2,3,4],[5,6,7,8]])\n",
    "M"
   ]
  },
  {
   "cell_type": "code",
   "execution_count": 24,
   "metadata": {},
   "outputs": [
    {
     "data": {
      "text/plain": [
       "array([[1, 5],\n",
       "       [2, 6],\n",
       "       [3, 7],\n",
       "       [4, 8]])"
      ]
     },
     "execution_count": 24,
     "metadata": {},
     "output_type": "execute_result"
    }
   ],
   "source": [
    "M.T"
   ]
  },
  {
   "cell_type": "code",
   "execution_count": 25,
   "metadata": {},
   "outputs": [
    {
     "data": {
      "text/plain": [
       "tensor([[ 2.7105e-01,  5.6663e-01,  1.9803e-03,  8.4496e-01, -1.0047e-01,\n",
       "         -3.0541e+00,  1.2300e+00],\n",
       "        [-2.6025e-01,  4.9852e-01,  7.7671e-01,  7.3343e-01,  2.0373e+00,\n",
       "         -1.0553e-01,  1.4398e-02],\n",
       "        [-8.5800e-01, -8.8355e-01, -4.9225e-01,  1.8529e+00,  1.2163e+00,\n",
       "          2.7787e-01, -8.8269e-01],\n",
       "        [-1.9144e-01,  3.8901e-02, -1.2130e+00,  1.1995e+00,  2.5524e-01,\n",
       "         -1.7797e+00,  2.5169e-02]])"
      ]
     },
     "execution_count": 25,
     "metadata": {},
     "output_type": "execute_result"
    }
   ],
   "source": [
    "C1 = np.random.randn(4,7)\n",
    "C2 = torch.tensor(C1,dtype=torch.float)\n",
    "C2\n"
   ]
  },
  {
   "cell_type": "code",
   "execution_count": 26,
   "metadata": {},
   "outputs": [
    {
     "data": {
      "text/plain": [
       "array([[ 2.71051014e-01,  5.66625302e-01,  1.98033081e-03,\n",
       "         8.44963191e-01, -1.00474701e-01, -3.05410373e+00,\n",
       "         1.22999995e+00],\n",
       "       [-2.60253387e-01,  4.98518389e-01,  7.76712493e-01,\n",
       "         7.33432679e-01,  2.03725947e+00, -1.05530659e-01,\n",
       "         1.43981176e-02],\n",
       "       [-8.58003687e-01, -8.83552629e-01, -4.92248945e-01,\n",
       "         1.85294553e+00,  1.21630206e+00,  2.77871310e-01,\n",
       "        -8.82688516e-01],\n",
       "       [-1.91438079e-01,  3.89005950e-02, -1.21301520e+00,\n",
       "         1.19945380e+00,  2.55240543e-01, -1.77973083e+00,\n",
       "         2.51693394e-02]])"
      ]
     },
     "execution_count": 26,
     "metadata": {},
     "output_type": "execute_result"
    }
   ],
   "source": [
    "C1"
   ]
  },
  {
   "cell_type": "code",
   "execution_count": 28,
   "metadata": {},
   "outputs": [
    {
     "data": {
      "text/plain": [
       "True"
      ]
     },
     "execution_count": 28,
     "metadata": {},
     "output_type": "execute_result"
    }
   ],
   "source": [
    "arr = np.array([1,2,3,4,5])\n",
    "\n",
    "num = np.exp(arr)\n",
    "den = np.sum(np.exp(arr))\n",
    "\n",
    "sftmax = num/den\n",
    "np.sum(sftmax) == 1"
   ]
  },
  {
   "cell_type": "code",
   "execution_count": 29,
   "metadata": {},
   "outputs": [
    {
     "name": "stdout",
     "output_type": "stream",
     "text": [
      "tensor([1, 2, 3])\n",
      "tensor([1., 2., 3.])\n"
     ]
    }
   ],
   "source": [
    "c = torch.tensor([1,2,3])\n",
    "c1 = torch.Tensor([1,2,3])\n",
    "print(c)\n",
    "print(c1)"
   ]
  },
  {
   "cell_type": "code",
   "execution_count": 30,
   "metadata": {},
   "outputs": [
    {
     "name": "stdout",
     "output_type": "stream",
     "text": [
      "[ 1.  2.  3.  4.  5.  6.  7.  8.  9. 10. 11. 12. 13. 14. 15. 16. 17. 18.\n",
      " 19. 20.]\n",
      "[1]\n"
     ]
    }
   ],
   "source": [
    "x = np.linspace(1,20,20)\n",
    "y = np.arange(1,20,20)\n",
    "print(x)\n",
    "print(y)\n",
    "\n"
   ]
  },
  {
   "cell_type": "code",
   "execution_count": 36,
   "metadata": {},
   "outputs": [
    {
     "name": "stdout",
     "output_type": "stream",
     "text": [
      "5.0\n"
     ]
    }
   ],
   "source": [
    "n = np.log(np.exp(5))\n",
    "print(n)"
   ]
  },
  {
   "cell_type": "code",
   "execution_count": 37,
   "metadata": {},
   "outputs": [
    {
     "name": "stdout",
     "output_type": "stream",
     "text": [
      "4.999999999999999\n"
     ]
    }
   ],
   "source": [
    "m = np.exp(np.log(5))\n",
    "print(m)\n"
   ]
  },
  {
   "cell_type": "code",
   "execution_count": 35,
   "metadata": {},
   "outputs": [
    {
     "data": {
      "image/png": "[encoded data removed]",
      "text/plain": [
       "<Figure size 640x480 with 1 Axes>"
      ]
     },
     "metadata": {},
     "output_type": "display_data"
    }
   ],
   "source": [
    "# demonstration that log and exp are inverses\n",
    "import matplotlib.pyplot as plt\n",
    "# redefine with fewer points\n",
    "x = np.linspace(.0001,1,20)\n",
    "\n",
    "# log and exp\n",
    "logx = np.log(x)\n",
    "expx = np.exp(x)\n",
    "\n",
    "# the plot\n",
    "plt.plot(x,x,color=[.8,.8,.8])\n",
    "plt.plot(x,np.exp(logx),'o',markersize=8)\n",
    "plt.plot(x,np.log(expx),'x',markersize=8)\n",
    "plt.xlabel('x')\n",
    "plt.ylabel('f(g(x))')\n",
    "plt.legend(['unity','exp(log(x))','log(exp(x))'])\n",
    "plt.show()"
   ]
  },
  {
   "cell_type": "code",
   "execution_count": 38,
   "metadata": {},
   "outputs": [],
   "source": [
    "import torch\n",
    "import torch.nn.functional as F\n",
    "\n",
    "p = [1,0]\n",
    "q = [.25,.75]"
   ]
  },
  {
   "cell_type": "code",
   "execution_count": 39,
   "metadata": {},
   "outputs": [
    {
     "data": {
      "text/plain": [
       "tensor(75.)"
      ]
     },
     "execution_count": 39,
     "metadata": {},
     "output_type": "execute_result"
    }
   ],
   "source": [
    "p = torch.Tensor(p)\n",
    "q = torch.Tensor(q)\n",
    "\n",
    "F.binary_cross_entropy(p,q)\n"
   ]
  },
  {
   "cell_type": "code",
   "execution_count": 41,
   "metadata": {},
   "outputs": [
    {
     "data": {
      "text/plain": [
       "True"
      ]
     },
     "execution_count": 41,
     "metadata": {},
     "output_type": "execute_result"
    }
   ],
   "source": [
    "x = [1,2,3,4,5]\n",
    "mean1 = np.sum(x)/len(x)\n",
    "mean2 = np.mean(x)\n",
    "mean1 == mean2\n"
   ]
  },
  {
   "cell_type": "code",
   "execution_count": 43,
   "metadata": {},
   "outputs": [
    {
     "data": {
      "text/plain": [
       "1.625"
      ]
     },
     "execution_count": 43,
     "metadata": {},
     "output_type": "execute_result"
    }
   ],
   "source": [
    "pop = [1,2,4,6,5,4,0,-4,5,-2,6,10,-9,1,3,-6]\n",
    "popmean = np.mean(pop)\n",
    "popmean"
   ]
  },
  {
   "cell_type": "code",
   "execution_count": 52,
   "metadata": {},
   "outputs": [
    {
     "data": {
      "image/png": "[encoded data removed]",
      "text/plain": [
       "<Figure size 640x480 with 1 Axes>"
      ]
     },
     "metadata": {},
     "output_type": "display_data"
    }
   ],
   "source": [
    "numexps = 1000\n",
    "\n",
    "sampleMeans = np.zeros(numexps)\n",
    "for i in range(numexps):\n",
    "    sample = np.random.choice(pop,size=5,replace=True)\n",
    "    sampleMeans[i] = np.mean(sample)\n",
    "\n",
    "plt.hist(sampleMeans,bins=40,density=True)\n",
    "plt.plot([popmean,popmean],[0,.3],'m--')\n",
    "plt.ylabel('Count')\n",
    "plt.xlabel('Sample mean')\n",
    "plt.show()"
   ]
  },
  {
   "cell_type": "code",
   "execution_count": 73,
   "metadata": {},
   "outputs": [
    {
     "name": "stdout",
     "output_type": "stream",
     "text": [
      "[[-1.0114851   0.63192005]\n",
      " [ 0.19620379 -0.1145003 ]]\n",
      "[[ 0.64384554 -1.34801247]\n",
      " [ 0.48889318 -0.57875572]]\n",
      "[[ 0.66957334 -1.70157501]\n",
      " [-1.19116897  0.88101588]]\n"
     ]
    }
   ],
   "source": [
    "randseed1 = np.random.RandomState(1241361354)\n",
    "randseed2 = np.random.RandomState(165441664)\n",
    "\n",
    "print(randseed1.randn(2,2))\n",
    "print(randseed2.randn(2,2))\n",
    "print(np.random.randn(2,2))\n",
    "\n",
    "#diff between randn randint randuniform!!"
   ]
  },
  {
   "cell_type": "code",
   "execution_count": 80,
   "metadata": {},
   "outputs": [
    {
     "data": {
      "text/plain": [
       "tensor([ 1.6767, -0.9705,  0.1447, -0.3195, -0.4702])"
      ]
     },
     "execution_count": 80,
     "metadata": {},
     "output_type": "execute_result"
    }
   ],
   "source": [
    "torch.manual_seed(13141341345555242324)\n",
    "torch.randn(5)"
   ]
  },
  {
   "cell_type": "code",
   "execution_count": 84,
   "metadata": {},
   "outputs": [
    {
     "data": {
      "text/plain": [
       "tensor([3, 1, 4, 3, 3])"
      ]
     },
     "execution_count": 84,
     "metadata": {},
     "output_type": "execute_result"
    }
   ],
   "source": [
    "torch.randint(1,5,(5,))\n",
    "\n"
   ]
  },
  {
   "cell_type": "code",
   "execution_count": 90,
   "metadata": {},
   "outputs": [
    {
     "name": "stdout",
     "output_type": "stream",
     "text": [
      "2*x**2\n",
      "4*x\n"
     ]
    }
   ],
   "source": [
    "import sympy as sym\n",
    "\n",
    "# create symbolic variables in sympy\n",
    "# x = sym.symbols('x')\n",
    "\n",
    "# create a function\n",
    "fx = 2*x**2\n",
    "\n",
    "# compute its derivative\n",
    "df = sym.diff(fx,x)\n",
    "\n",
    "# print them\n",
    "print(fx)\n",
    "print(df)"
   ]
  },
  {
   "cell_type": "code",
   "execution_count": 91,
   "metadata": {},
   "outputs": [
    {
     "data": {
      "image/png": "[encoded data removed]",
      "text/plain": [
       "<Figure size 640x480 with 1 Axes>"
      ]
     },
     "metadata": {},
     "output_type": "display_data"
    },
    {
     "data": {
      "image/png": "[encoded data removed]",
      "text/plain": [
       "<Figure size 640x480 with 1 Axes>"
      ]
     },
     "metadata": {},
     "output_type": "display_data"
    }
   ],
   "source": [
    "# repeat with relu and sigmoid\n",
    "import sympy.plotting.plot as symplot\n",
    "\n",
    "# create symbolic functions\n",
    "relu = sym.Max(0,x)\n",
    "sigmoid = 1 / (1+sym.exp(-x))\n",
    "\n",
    "# graph the functions\n",
    "p = symplot(relu,(x,-4,4),label='ReLU',show=False,line_color='blue')\n",
    "p.extend( symplot(sigmoid,(x,-4,4),label='Sigmoid',show=False,line_color='red') )\n",
    "p.legend = True\n",
    "p.title = 'The functions'\n",
    "p.show()\n",
    "\n",
    "\n",
    "# graph their derivatives\n",
    "p = symplot(sym.diff(relu),(x,-4,4),label='df(ReLU)',show=False,line_color='blue')\n",
    "p.extend( symplot(sym.diff(sigmoid),(x,-4,4),label='df(Sigmoid)',show=False,line_color='red') )\n",
    "p.legend = True\n",
    "p.title = 'The derivatives'\n",
    "p.show()"
   ]
  },
  {
   "cell_type": "code",
   "execution_count": 92,
   "metadata": {},
   "outputs": [
    {
     "data": {
      "text/latex": [
       "$\\displaystyle \\left(15 x^{2} + 30 x\\right) \\left(x^{3} + 3 x^{2}\\right)^{4}$"
      ],
      "text/plain": [
       "(15*x**2 + 30*x)*(x**3 + 3*x**2)**4"
      ]
     },
     "execution_count": 92,
     "metadata": {},
     "output_type": "execute_result"
    }
   ],
   "source": [
    "gx = x**3 + 3*x**2\n",
    "fx = (gx)**5\n",
    "#myguess = 5 * (x**3 + 3*x**2)**4 * (3*x**2 + 6*x)\n",
    "sym.diff(fx,x)\n"
   ]
  },
  {
   "cell_type": "code",
   "execution_count": 93,
   "metadata": {},
   "outputs": [
    {
     "data": {
      "image/png": "[encoded data removed]",
      "text/plain": [
       "<Figure size 640x480 with 1 Axes>"
      ]
     },
     "metadata": {},
     "output_type": "display_data"
    }
   ],
   "source": [
    "# parameters\n",
    "n1 = 30   # samples in dataset 1\n",
    "n2 = 40   # ...and 2\n",
    "mu1 = 1   # population mean in dataset 1\n",
    "mu2 = 2   # population mean in dataset 2\n",
    "\n",
    "# generate the data\n",
    "data1 = mu1 + np.random.randn(n1)\n",
    "data2 = mu2 + np.random.randn(n2)\n",
    "\n",
    "# plot them\n",
    "plt.plot(np.zeros(n1),data1,'ro',markerfacecolor='w',markersize=14)\n",
    "plt.plot(np.ones(n2), data2,'bs',markerfacecolor='w',markersize=14)\n",
    "plt.xlim([-1,2])\n",
    "plt.xticks([0,1],labels=['Group 1','Group 2'])\n",
    "plt.show()"
   ]
  },
  {
   "cell_type": "code",
   "execution_count": 95,
   "metadata": {},
   "outputs": [
    {
     "name": "stdout",
     "output_type": "stream",
     "text": [
      "-6.677668167362916\n",
      "5.374699027625186e-09\n"
     ]
    }
   ],
   "source": [
    "import scipy.stats as stats\n",
    "t,p = stats.ttest_ind(data1,data2)\n",
    "print(t)\n",
    "print(p)"
   ]
  },
  {
   "cell_type": "code",
   "execution_count": 96,
   "metadata": {},
   "outputs": [
    {
     "data": {
      "image/png": "[encoded data removed]",
      "text/plain": [
       "<Figure size 1000x400 with 1 Axes>"
      ]
     },
     "metadata": {},
     "output_type": "display_data"
    }
   ],
   "source": [
    "# common way to show t-test results in a plot\n",
    "fig = plt.figure(figsize=(10,4))\n",
    "plt.rcParams.update({'font.size':12}) # change the font size\n",
    "\n",
    "plt.plot(0+np.random.randn(n1)/15, data1, 'ro',markerfacecolor='w',markersize=14)\n",
    "plt.plot(1+np.random.randn(n2)/15, data2, 'bs',markerfacecolor='w',markersize=14)\n",
    "plt.xlim([-1,2])\n",
    "plt.xticks([0,1],labels=['Group 1','Group 2'])\n",
    "\n",
    "# set the title to include the t-value and p-value\n",
    "plt.title(f't = {t:.2f}, p={p:.3f}')\n",
    "\n",
    "plt.show()"
   ]
  }
 ],
 "metadata": {
  "kernelspec": {
   "display_name": "base",
   "language": "python",
   "name": "python3"
  },
  "language_info": {
   "codemirror_mode": {
    "name": "ipython",
    "version": 3
   },
   "file_extension": ".py",
   "mimetype": "text/x-python",
   "name": "python",
   "nbconvert_exporter": "python",
   "pygments_lexer": "ipython3",
   "version": "3.12.4"
  }
 },
 "nbformat": 4,
 "nbformat_minor": 2
}
