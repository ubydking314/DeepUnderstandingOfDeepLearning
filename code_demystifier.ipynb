{
 "cells": [
  {
   "cell_type": "code",
   "execution_count": null,
   "metadata": {},
   "outputs": [],
   "source": [
    "def accuracy(test_loader,model):\n",
    "  num_corr = 0\n",
    "  num_samp = 0\n",
    "  model.eval()\n",
    "\n",
    "  with torch.no_grad():\n",
    "    for X,y in test_loader:\n",
    "      X = X.to(device)\n",
    "      y = y.to(device)\n",
    "      X = X.reshape(X.shape[0],-1)\n",
    "      scores = model(X)\n",
    "      _,predictions = scores.max(1)\n",
    "      num_corr += (predictions == y).sum()\n",
    "      num_samp += predictions.size(0)\n",
    "    print(f\"Got {num_corr} / {num_samp} with accuracy {float(num_corr)/float(num_samp)*100:.2f}\")\n",
    "\n",
    "  model.train()"
   ]
  },
  {
   "cell_type": "code",
   "execution_count": null,
   "metadata": {},
   "outputs": [],
   "source": []
  }
 ],
 "metadata": {
  "language_info": {
   "name": "python"
  }
 },
 "nbformat": 4,
 "nbformat_minor": 2
}
